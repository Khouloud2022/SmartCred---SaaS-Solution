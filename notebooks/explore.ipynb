{
 "cells": [
  {
   "cell_type": "markdown",
   "id": "8f1b7b6a",
   "metadata": {},
   "source": [
    "Step 1: Explore the Sandbox Data"
   ]
  },
  {
   "cell_type": "code",
   "execution_count": null,
   "id": "8712907e",
   "metadata": {},
   "outputs": [
    {
     "name": "stdout",
     "output_type": "stream",
     "text": [
      "D:\\Projects_2025\\ml_service\n"
     ]
    }
   ],
   "source": [
    "import os\n",
    "print(os.getcwd())"
   ]
  },
  {
   "cell_type": "code",
   "execution_count": 2,
   "id": "5955da13",
   "metadata": {},
   "outputs": [
    {
     "name": "stderr",
     "output_type": "stream",
     "text": [
      "C:\\Users\\21658\\AppData\\Local\\Temp\\ipykernel_20748\\1147157911.py:3: DtypeWarning: Columns (19) have mixed types. Specify dtype option on import or set low_memory=False.\n",
      "  df_sample = pd.read_csv('data/raw/accepted_2007_to_2018Q4.csv', nrows=50000)\n"
     ]
    }
   ],
   "source": [
    "# In your notebook\n",
    "import pandas as pd\n",
    "df_sample = pd.read_csv('data/raw/accepted_2007_to_2018Q4.csv', nrows=50000)"
   ]
  },
  {
   "cell_type": "markdown",
   "id": "0894289a",
   "metadata": {},
   "source": [
    "Step 2: Initial Exploration"
   ]
  },
  {
   "cell_type": "code",
   "execution_count": 3,
   "id": "8cf39fc3",
   "metadata": {},
   "outputs": [
    {
     "name": "stdout",
     "output_type": "stream",
     "text": [
      "<class 'pandas.core.frame.DataFrame'>\n",
      "RangeIndex: 50000 entries, 0 to 49999\n",
      "Data columns (total 151 columns):\n",
      " #    Column                                      Non-Null Count  Dtype  \n",
      "---   ------                                      --------------  -----  \n",
      " 0    id                                          50000 non-null  int64  \n",
      " 1    member_id                                   0 non-null      float64\n",
      " 2    loan_amnt                                   50000 non-null  float64\n",
      " 3    funded_amnt                                 50000 non-null  float64\n",
      " 4    funded_amnt_inv                             50000 non-null  float64\n",
      " 5    term                                        50000 non-null  object \n",
      " 6    int_rate                                    50000 non-null  float64\n",
      " 7    installment                                 50000 non-null  float64\n",
      " 8    grade                                       50000 non-null  object \n",
      " 9    sub_grade                                   50000 non-null  object \n",
      " 10   emp_title                                   47005 non-null  object \n",
      " 11   emp_length                                  47011 non-null  object \n",
      " 12   home_ownership                              50000 non-null  object \n",
      " 13   annual_inc                                  50000 non-null  float64\n",
      " 14   verification_status                         50000 non-null  object \n",
      " 15   issue_d                                     50000 non-null  object \n",
      " 16   loan_status                                 50000 non-null  object \n",
      " 17   pymnt_plan                                  50000 non-null  object \n",
      " 18   url                                         50000 non-null  object \n",
      " 19   desc                                        3 non-null      object \n",
      " 20   purpose                                     50000 non-null  object \n",
      " 21   title                                       49868 non-null  object \n",
      " 22   zip_code                                    50000 non-null  object \n",
      " 23   addr_state                                  50000 non-null  object \n",
      " 24   dti                                         49999 non-null  float64\n",
      " 25   delinq_2yrs                                 50000 non-null  float64\n",
      " 26   earliest_cr_line                            50000 non-null  object \n",
      " 27   fico_range_low                              50000 non-null  float64\n",
      " 28   fico_range_high                             50000 non-null  float64\n",
      " 29   inq_last_6mths                              50000 non-null  float64\n",
      " 30   mths_since_last_delinq                      26001 non-null  float64\n",
      " 31   mths_since_last_record                      9185 non-null   float64\n",
      " 32   open_acc                                    50000 non-null  float64\n",
      " 33   pub_rec                                     50000 non-null  float64\n",
      " 34   revol_bal                                   50000 non-null  float64\n",
      " 35   revol_util                                  49976 non-null  float64\n",
      " 36   total_acc                                   50000 non-null  float64\n",
      " 37   initial_list_status                         50000 non-null  object \n",
      " 38   out_prncp                                   50000 non-null  float64\n",
      " 39   out_prncp_inv                               50000 non-null  float64\n",
      " 40   total_pymnt                                 50000 non-null  float64\n",
      " 41   total_pymnt_inv                             50000 non-null  float64\n",
      " 42   total_rec_prncp                             50000 non-null  float64\n",
      " 43   total_rec_int                               50000 non-null  float64\n",
      " 44   total_rec_late_fee                          50000 non-null  float64\n",
      " 45   recoveries                                  50000 non-null  float64\n",
      " 46   collection_recovery_fee                     50000 non-null  float64\n",
      " 47   last_pymnt_d                                49966 non-null  object \n",
      " 48   last_pymnt_amnt                             50000 non-null  float64\n",
      " 49   next_pymnt_d                                5995 non-null   object \n",
      " 50   last_credit_pull_d                          49999 non-null  object \n",
      " 51   last_fico_range_high                        50000 non-null  float64\n",
      " 52   last_fico_range_low                         50000 non-null  float64\n",
      " 53   collections_12_mths_ex_med                  50000 non-null  float64\n",
      " 54   mths_since_last_major_derog                 14779 non-null  float64\n",
      " 55   policy_code                                 50000 non-null  float64\n",
      " 56   application_type                            50000 non-null  object \n",
      " 57   annual_inc_joint                            236 non-null    float64\n",
      " 58   dti_joint                                   235 non-null    float64\n",
      " 59   verification_status_joint                   236 non-null    object \n",
      " 60   acc_now_delinq                              50000 non-null  float64\n",
      " 61   tot_coll_amt                                50000 non-null  float64\n",
      " 62   tot_cur_bal                                 50000 non-null  float64\n",
      " 63   open_acc_6m                                 21372 non-null  float64\n",
      " 64   open_act_il                                 21372 non-null  float64\n",
      " 65   open_il_12m                                 21372 non-null  float64\n",
      " 66   open_il_24m                                 21372 non-null  float64\n",
      " 67   mths_since_rcnt_il                          20810 non-null  float64\n",
      " 68   total_bal_il                                21372 non-null  float64\n",
      " 69   il_util                                     18617 non-null  float64\n",
      " 70   open_rv_12m                                 21372 non-null  float64\n",
      " 71   open_rv_24m                                 21372 non-null  float64\n",
      " 72   max_bal_bc                                  21372 non-null  float64\n",
      " 73   all_util                                    21372 non-null  float64\n",
      " 74   total_rev_hi_lim                            50000 non-null  float64\n",
      " 75   inq_fi                                      21372 non-null  float64\n",
      " 76   total_cu_tl                                 21372 non-null  float64\n",
      " 77   inq_last_12m                                21372 non-null  float64\n",
      " 78   acc_open_past_24mths                        50000 non-null  float64\n",
      " 79   avg_cur_bal                                 50000 non-null  float64\n",
      " 80   bc_open_to_buy                              49547 non-null  float64\n",
      " 81   bc_util                                     49518 non-null  float64\n",
      " 82   chargeoff_within_12_mths                    50000 non-null  float64\n",
      " 83   delinq_amnt                                 50000 non-null  float64\n",
      " 84   mo_sin_old_il_acct                          48663 non-null  float64\n",
      " 85   mo_sin_old_rev_tl_op                        50000 non-null  float64\n",
      " 86   mo_sin_rcnt_rev_tl_op                       50000 non-null  float64\n",
      " 87   mo_sin_rcnt_tl                              50000 non-null  float64\n",
      " 88   mort_acc                                    50000 non-null  float64\n",
      " 89   mths_since_recent_bc                        49564 non-null  float64\n",
      " 90   mths_since_recent_bc_dlq                    12867 non-null  float64\n",
      " 91   mths_since_recent_inq                       44747 non-null  float64\n",
      " 92   mths_since_recent_revol_delinq              18082 non-null  float64\n",
      " 93   num_accts_ever_120_pd                       50000 non-null  float64\n",
      " 94   num_actv_bc_tl                              50000 non-null  float64\n",
      " 95   num_actv_rev_tl                             50000 non-null  float64\n",
      " 96   num_bc_sats                                 50000 non-null  float64\n",
      " 97   num_bc_tl                                   50000 non-null  float64\n",
      " 98   num_il_tl                                   50000 non-null  float64\n",
      " 99   num_op_rev_tl                               50000 non-null  float64\n",
      " 100  num_rev_accts                               50000 non-null  float64\n",
      " 101  num_rev_tl_bal_gt_0                         50000 non-null  float64\n",
      " 102  num_sats                                    50000 non-null  float64\n",
      " 103  num_tl_120dpd_2m                            47273 non-null  float64\n",
      " 104  num_tl_30dpd                                50000 non-null  float64\n",
      " 105  num_tl_90g_dpd_24m                          50000 non-null  float64\n",
      " 106  num_tl_op_past_12m                          50000 non-null  float64\n",
      " 107  pct_tl_nvr_dlq                              50000 non-null  float64\n",
      " 108  percent_bc_gt_75                            49504 non-null  float64\n",
      " 109  pub_rec_bankruptcies                        50000 non-null  float64\n",
      " 110  tax_liens                                   50000 non-null  float64\n",
      " 111  tot_hi_cred_lim                             50000 non-null  float64\n",
      " 112  total_bal_ex_mort                           50000 non-null  float64\n",
      " 113  total_bc_limit                              50000 non-null  float64\n",
      " 114  total_il_high_credit_limit                  50000 non-null  float64\n",
      " 115  revol_bal_joint                             0 non-null      float64\n",
      " 116  sec_app_fico_range_low                      0 non-null      float64\n",
      " 117  sec_app_fico_range_high                     0 non-null      float64\n",
      " 118  sec_app_earliest_cr_line                    0 non-null      float64\n",
      " 119  sec_app_inq_last_6mths                      0 non-null      float64\n",
      " 120  sec_app_mort_acc                            0 non-null      float64\n",
      " 121  sec_app_open_acc                            0 non-null      float64\n",
      " 122  sec_app_revol_util                          0 non-null      float64\n",
      " 123  sec_app_open_act_il                         0 non-null      float64\n",
      " 124  sec_app_num_rev_accts                       0 non-null      float64\n",
      " 125  sec_app_chargeoff_within_12_mths            0 non-null      float64\n",
      " 126  sec_app_collections_12_mths_ex_med          0 non-null      float64\n",
      " 127  sec_app_mths_since_last_major_derog         0 non-null      float64\n",
      " 128  hardship_flag                               50000 non-null  object \n",
      " 129  hardship_type                               406 non-null    object \n",
      " 130  hardship_reason                             406 non-null    object \n",
      " 131  hardship_status                             406 non-null    object \n",
      " 132  deferral_term                               406 non-null    float64\n",
      " 133  hardship_amount                             406 non-null    float64\n",
      " 134  hardship_start_date                         406 non-null    object \n",
      " 135  hardship_end_date                           406 non-null    object \n",
      " 136  payment_plan_start_date                     406 non-null    object \n",
      " 137  hardship_length                             406 non-null    float64\n",
      " 138  hardship_dpd                                406 non-null    float64\n",
      " 139  hardship_loan_status                        406 non-null    object \n",
      " 140  orig_projected_additional_accrued_interest  325 non-null    float64\n",
      " 141  hardship_payoff_balance_amount              406 non-null    float64\n",
      " 142  hardship_last_payment_amount                406 non-null    float64\n",
      " 143  disbursement_method                         50000 non-null  object \n",
      " 144  debt_settlement_flag                        50000 non-null  object \n",
      " 145  debt_settlement_flag_date                   1537 non-null   object \n",
      " 146  settlement_status                           1537 non-null   object \n",
      " 147  settlement_date                             1537 non-null   object \n",
      " 148  settlement_amount                           1537 non-null   float64\n",
      " 149  settlement_percentage                       1537 non-null   float64\n",
      " 150  settlement_term                             1537 non-null   float64\n",
      "dtypes: float64(114), int64(1), object(36)\n",
      "memory usage: 57.6+ MB\n",
      "sec_app_open_acc           1.0\n",
      "member_id                  1.0\n",
      "revol_bal_joint            1.0\n",
      "sec_app_fico_range_low     1.0\n",
      "sec_app_fico_range_high    1.0\n",
      "                          ... \n",
      "initial_list_status        0.0\n",
      "mort_acc                   0.0\n",
      "mo_sin_rcnt_tl             0.0\n",
      "mo_sin_rcnt_rev_tl_op      0.0\n",
      "id                         0.0\n",
      "Length: 151, dtype: float64\n"
     ]
    }
   ],
   "source": [
    "# See the first 5 rows to get a visual feel for the data\n",
    "df_sample.head()\n",
    "\n",
    "# Get a summary of all columns, their data types, and non-null counts\n",
    "# This is one of the most important commands.\n",
    "df_sample.info(verbose=True, show_counts=True)\n",
    "\n",
    "# See the percentage of missing values for each column, sorted\n",
    "print(df_sample.isnull().mean().sort_values(ascending=False))"
   ]
  },
  {
   "cell_type": "markdown",
   "id": "ba20a5a7",
   "metadata": {},
   "source": [
    "Step 3 : Feature Selection & Dropping Columns"
   ]
  },
  {
   "cell_type": "code",
   "execution_count": 4,
   "id": "9f278b20",
   "metadata": {},
   "outputs": [
    {
     "name": "stdout",
     "output_type": "stream",
     "text": [
      "Column cleanup complete!\n",
      "Original number of columns: 151\n",
      "Number of columns after dropping: 87\n"
     ]
    }
   ],
   "source": [
    "# --- Feature Selection & Dropping Columns ---\n",
    "\n",
    "# 1. Columns that are mostly or completely empty\n",
    "# We identify these from your .info() output (e.g., member_id, sec_app..., hardship...)\n",
    "cols_to_drop_empty = [\n",
    "    'member_id', 'revol_bal_joint', 'sec_app_fico_range_low', 'sec_app_fico_range_high',\n",
    "    'sec_app_earliest_cr_line', 'sec_app_inq_last_6mths', 'sec_app_mort_acc',\n",
    "    'sec_app_open_acc', 'sec_app_revol_util', 'sec_app_open_act_il', 'sec_app_num_rev_accts',\n",
    "    'sec_app_chargeoff_within_12_mths', 'sec_app_collections_12_mths_ex_med',\n",
    "    'sec_app_mths_since_last_major_derog', 'hardship_type', 'hardship_reason', 'hardship_status',\n",
    "    'deferral_term', 'hardship_amount', 'hardship_start_date', 'hardship_end_date',\n",
    "    'payment_plan_start_date', 'hardship_length', 'hardship_dpd', 'hardship_loan_status',\n",
    "    'orig_projected_additional_accrued_interest', 'hardship_payoff_balance_amount',\n",
    "    'hardship_last_payment_amount', 'desc', 'mths_since_last_record', 'mths_since_last_major_derog',\n",
    "    'annual_inc_joint', 'dti_joint', 'verification_status_joint', 'next_pymnt_d'\n",
    "]\n",
    "\n",
    "# 2. \"Leaky\" columns that contain information from the future (after the loan is issued)\n",
    "leaky_columns = [\n",
    "    'out_prncp', 'out_prncp_inv', 'total_pymnt', 'total_pymnt_inv',\n",
    "    'total_rec_prncp', 'total_rec_int', 'total_rec_late_fee',\n",
    "    'recoveries', 'collection_recovery_fee', 'last_pymnt_d', 'last_pymnt_amnt',\n",
    "    'last_credit_pull_d', 'last_fico_range_high', 'last_fico_range_low',\n",
    "    'debt_settlement_flag', 'debt_settlement_flag_date', 'settlement_status',\n",
    "    'settlement_date', 'settlement_amount', 'settlement_percentage', 'settlement_term'\n",
    "]\n",
    "\n",
    "# 3. Unnecessary or redundant columns (IDs, free text, etc.)\n",
    "unnecessary_cols = [\n",
    "    'id', 'url', 'emp_title', 'zip_code', 'policy_code',\n",
    "    'funded_amnt', # Usually identical to loan_amnt\n",
    "    'funded_amnt_inv', # Usually identical to loan_amnt\n",
    "    'sub_grade' # Grade is a less granular version that is often sufficient\n",
    "]\n",
    "\n",
    "# Combine all columns to drop into a single list\n",
    "all_cols_to_drop = cols_to_drop_empty + leaky_columns + unnecessary_cols\n",
    "\n",
    "# Use a set to handle any duplicates, then convert back to a list\n",
    "all_cols_to_drop = list(set(all_cols_to_drop))\n",
    "\n",
    "# Drop the columns from the DataFrame\n",
    "df_sample_cleaned = df_sample.drop(columns=all_cols_to_drop, errors='ignore')\n",
    "\n",
    "print(\"Column cleanup complete!\")\n",
    "print(f\"Original number of columns: {len(df_sample.columns)}\")\n",
    "print(f\"Number of columns after dropping: {len(df_sample_cleaned.columns)}\")"
   ]
  },
  {
   "cell_type": "code",
   "execution_count": 5,
   "id": "0bc26be5",
   "metadata": {},
   "outputs": [
    {
     "name": "stdout",
     "output_type": "stream",
     "text": [
      "<class 'pandas.core.frame.DataFrame'>\n",
      "RangeIndex: 50000 entries, 0 to 49999\n",
      "Data columns (total 87 columns):\n",
      " #   Column                          Non-Null Count  Dtype  \n",
      "---  ------                          --------------  -----  \n",
      " 0   loan_amnt                       50000 non-null  float64\n",
      " 1   term                            50000 non-null  object \n",
      " 2   int_rate                        50000 non-null  float64\n",
      " 3   installment                     50000 non-null  float64\n",
      " 4   grade                           50000 non-null  object \n",
      " 5   emp_length                      47011 non-null  object \n",
      " 6   home_ownership                  50000 non-null  object \n",
      " 7   annual_inc                      50000 non-null  float64\n",
      " 8   verification_status             50000 non-null  object \n",
      " 9   issue_d                         50000 non-null  object \n",
      " 10  loan_status                     50000 non-null  object \n",
      " 11  pymnt_plan                      50000 non-null  object \n",
      " 12  purpose                         50000 non-null  object \n",
      " 13  title                           49868 non-null  object \n",
      " 14  addr_state                      50000 non-null  object \n",
      " 15  dti                             49999 non-null  float64\n",
      " 16  delinq_2yrs                     50000 non-null  float64\n",
      " 17  earliest_cr_line                50000 non-null  object \n",
      " 18  fico_range_low                  50000 non-null  float64\n",
      " 19  fico_range_high                 50000 non-null  float64\n",
      " 20  inq_last_6mths                  50000 non-null  float64\n",
      " 21  mths_since_last_delinq          26001 non-null  float64\n",
      " 22  open_acc                        50000 non-null  float64\n",
      " 23  pub_rec                         50000 non-null  float64\n",
      " 24  revol_bal                       50000 non-null  float64\n",
      " 25  revol_util                      49976 non-null  float64\n",
      " 26  total_acc                       50000 non-null  float64\n",
      " 27  initial_list_status             50000 non-null  object \n",
      " 28  collections_12_mths_ex_med      50000 non-null  float64\n",
      " 29  application_type                50000 non-null  object \n",
      " 30  acc_now_delinq                  50000 non-null  float64\n",
      " 31  tot_coll_amt                    50000 non-null  float64\n",
      " 32  tot_cur_bal                     50000 non-null  float64\n",
      " 33  open_acc_6m                     21372 non-null  float64\n",
      " 34  open_act_il                     21372 non-null  float64\n",
      " 35  open_il_12m                     21372 non-null  float64\n",
      " 36  open_il_24m                     21372 non-null  float64\n",
      " 37  mths_since_rcnt_il              20810 non-null  float64\n",
      " 38  total_bal_il                    21372 non-null  float64\n",
      " 39  il_util                         18617 non-null  float64\n",
      " 40  open_rv_12m                     21372 non-null  float64\n",
      " 41  open_rv_24m                     21372 non-null  float64\n",
      " 42  max_bal_bc                      21372 non-null  float64\n",
      " 43  all_util                        21372 non-null  float64\n",
      " 44  total_rev_hi_lim                50000 non-null  float64\n",
      " 45  inq_fi                          21372 non-null  float64\n",
      " 46  total_cu_tl                     21372 non-null  float64\n",
      " 47  inq_last_12m                    21372 non-null  float64\n",
      " 48  acc_open_past_24mths            50000 non-null  float64\n",
      " 49  avg_cur_bal                     50000 non-null  float64\n",
      " 50  bc_open_to_buy                  49547 non-null  float64\n",
      " 51  bc_util                         49518 non-null  float64\n",
      " 52  chargeoff_within_12_mths        50000 non-null  float64\n",
      " 53  delinq_amnt                     50000 non-null  float64\n",
      " 54  mo_sin_old_il_acct              48663 non-null  float64\n",
      " 55  mo_sin_old_rev_tl_op            50000 non-null  float64\n",
      " 56  mo_sin_rcnt_rev_tl_op           50000 non-null  float64\n",
      " 57  mo_sin_rcnt_tl                  50000 non-null  float64\n",
      " 58  mort_acc                        50000 non-null  float64\n",
      " 59  mths_since_recent_bc            49564 non-null  float64\n",
      " 60  mths_since_recent_bc_dlq        12867 non-null  float64\n",
      " 61  mths_since_recent_inq           44747 non-null  float64\n",
      " 62  mths_since_recent_revol_delinq  18082 non-null  float64\n",
      " 63  num_accts_ever_120_pd           50000 non-null  float64\n",
      " 64  num_actv_bc_tl                  50000 non-null  float64\n",
      " 65  num_actv_rev_tl                 50000 non-null  float64\n",
      " 66  num_bc_sats                     50000 non-null  float64\n",
      " 67  num_bc_tl                       50000 non-null  float64\n",
      " 68  num_il_tl                       50000 non-null  float64\n",
      " 69  num_op_rev_tl                   50000 non-null  float64\n",
      " 70  num_rev_accts                   50000 non-null  float64\n",
      " 71  num_rev_tl_bal_gt_0             50000 non-null  float64\n",
      " 72  num_sats                        50000 non-null  float64\n",
      " 73  num_tl_120dpd_2m                47273 non-null  float64\n",
      " 74  num_tl_30dpd                    50000 non-null  float64\n",
      " 75  num_tl_90g_dpd_24m              50000 non-null  float64\n",
      " 76  num_tl_op_past_12m              50000 non-null  float64\n",
      " 77  pct_tl_nvr_dlq                  50000 non-null  float64\n",
      " 78  percent_bc_gt_75                49504 non-null  float64\n",
      " 79  pub_rec_bankruptcies            50000 non-null  float64\n",
      " 80  tax_liens                       50000 non-null  float64\n",
      " 81  tot_hi_cred_lim                 50000 non-null  float64\n",
      " 82  total_bal_ex_mort               50000 non-null  float64\n",
      " 83  total_bc_limit                  50000 non-null  float64\n",
      " 84  total_il_high_credit_limit      50000 non-null  float64\n",
      " 85  hardship_flag                   50000 non-null  object \n",
      " 86  disbursement_method             50000 non-null  object \n",
      "dtypes: float64(71), object(16)\n",
      "memory usage: 33.2+ MB\n"
     ]
    }
   ],
   "source": [
    "df_sample_cleaned.info()"
   ]
  },
  {
   "cell_type": "code",
   "execution_count": 6,
   "id": "a2f25174",
   "metadata": {},
   "outputs": [
    {
     "name": "stdout",
     "output_type": "stream",
     "text": [
      "Target variable 'target' created.\n",
      "Loans with non-final outcomes have been removed.\n",
      "\n",
      "Class distribution in your data sample:\n",
      "target\n",
      "0.0    34978\n",
      "1.0     9028\n",
      "Name: count, dtype: int64\n"
     ]
    }
   ],
   "source": [
    "import numpy as np\n",
    "\n",
    "# Make sure you are using your cleaned DataFrame from the previous step\n",
    "# df_sample_cleaned = ...\n",
    "\n",
    "# --- Step 1: Define the function to map loan_status to a binary target ---\n",
    "def map_loan_status(status):\n",
    "    if pd.isna(status):\n",
    "        return np.nan\n",
    "    status = str(status).lower()\n",
    "    \n",
    "    # Define what a \"Bad Loan\" is\n",
    "    bad_loan_statuses = ['charged off', 'default', 'does not meet the credit policy. charged off']\n",
    "    \n",
    "    # Define what a \"Good Loan\" is\n",
    "    good_loan_statuses = ['fully paid', 'does not meet the credit policy. fully paid']\n",
    "    \n",
    "    if any(st in status for st in bad_loan_statuses):\n",
    "        return 1  # High Risk\n",
    "    elif any(st in status for st in good_loan_statuses):\n",
    "        return 0  # Low Risk\n",
    "    else:\n",
    "        # This will catch 'Current', 'In Grace Period', etc.\n",
    "        return np.nan\n",
    "\n",
    "# --- Step 2: Apply the function and create the target column ---\n",
    "df_sample_cleaned['target'] = df_sample_cleaned['loan_status'].apply(map_loan_status)\n",
    "\n",
    "# --- Step 3: Remove rows where the outcome is not yet final ---\n",
    "# The .dropna() function will remove all rows where 'target' is NaN\n",
    "df_sample_cleaned.dropna(subset=['target'], inplace=True)\n",
    "\n",
    "# Optional: Drop the original 'loan_status' column as we now have 'target'\n",
    "df_sample_cleaned.drop(columns=['loan_status'], inplace=True)\n",
    "\n",
    "# --- Step 4: Check the results ---\n",
    "print(\"Target variable 'target' created.\")\n",
    "print(\"Loans with non-final outcomes have been removed.\")\n",
    "print(\"\\nClass distribution in your data sample:\")\n",
    "print(df_sample_cleaned['target'].value_counts())"
   ]
  },
  {
   "cell_type": "markdown",
   "id": "7289aeff",
   "metadata": {},
   "source": [
    "Part A: Clean the Numerical Columns"
   ]
  },
  {
   "cell_type": "code",
   "execution_count": 7,
   "id": "27beb55f",
   "metadata": {},
   "outputs": [
    {
     "name": "stdout",
     "output_type": "stream",
     "text": [
      "Filling missing values in numerical columns...\n",
      "Numerical columns cleaned.\n"
     ]
    }
   ],
   "source": [
    "import numpy as np\n",
    "\n",
    "# 1. Identify all numerical columns (excluding our 'target' variable)\n",
    "numerical_cols = df_sample_cleaned.select_dtypes(include=np.number).columns.tolist()\n",
    "if 'target' in numerical_cols:\n",
    "    numerical_cols.remove('target')\n",
    "\n",
    "# 2. Loop through each numerical column and fill missing values with the median\n",
    "print(\"Filling missing values in numerical columns...\")\n",
    "for col in numerical_cols:\n",
    "    median_val = df_sample_cleaned[col].median()\n",
    "    df_sample_cleaned[col].fillna(median_val, inplace=True)\n",
    "\n",
    "print(\"Numerical columns cleaned.\")"
   ]
  },
  {
   "cell_type": "markdown",
   "id": "b5297b68",
   "metadata": {},
   "source": [
    "Part B: Convert Categorical Columns to Numbers"
   ]
  },
  {
   "cell_type": "code",
   "execution_count": 9,
   "id": "828b9b9d",
   "metadata": {},
   "outputs": [
    {
     "name": "stdout",
     "output_type": "stream",
     "text": [
      "\n",
      "Applying one-hot encoding to categorical columns: ['term', 'grade', 'emp_length', 'home_ownership', 'verification_status', 'issue_d', 'pymnt_plan', 'purpose', 'title', 'addr_state', 'earliest_cr_line', 'initial_list_status', 'application_type', 'hardship_flag', 'disbursement_method']\n",
      "Categorical columns converted.\n"
     ]
    }
   ],
   "source": [
    "# 1. Identify all remaining categorical columns (they have the 'object' dtype)\n",
    "categorical_cols = df_sample_cleaned.select_dtypes(include='object').columns.tolist()\n",
    "\n",
    "print(f\"\\nApplying one-hot encoding to categorical columns: {categorical_cols}\")\n",
    "\n",
    "# 2. Apply one-hot encoding\n",
    "# drop_first=True is a good practice to avoid redundant columns\n",
    "df_final_sample = pd.get_dummies(df_sample_cleaned, columns=categorical_cols, drop_first=True, dtype=float)\n",
    "\n",
    "print(\"Categorical columns converted.\")"
   ]
  },
  {
   "cell_type": "markdown",
   "id": "14ca9cad",
   "metadata": {},
   "source": [
    "Final Verification"
   ]
  },
  {
   "cell_type": "code",
   "execution_count": 10,
   "id": "7c431ce5",
   "metadata": {},
   "outputs": [
    {
     "name": "stdout",
     "output_type": "stream",
     "text": [
      "\n",
      "Total remaining missing values: 0\n",
      "\n",
      "Final DataFrame info:\n",
      "<class 'pandas.core.frame.DataFrame'>\n",
      "Index: 44006 entries, 0 to 49999\n",
      "Columns: 765 entries, loan_amnt to application_type_Joint App\n",
      "dtypes: float64(765)\n",
      "memory usage: 257.2 MB\n"
     ]
    }
   ],
   "source": [
    "# Check for any remaining missing values (the output should be 0)\n",
    "print(\"\\nTotal remaining missing values:\", df_final_sample.isnull().sum().sum())\n",
    "\n",
    "# Check the data types of a few columns (they should all be numbers like float64, int64, or bool)\n",
    "print(\"\\nFinal DataFrame info:\")\n",
    "df_final_sample.info()"
   ]
  },
  {
   "cell_type": "code",
   "execution_count": null,
   "id": "576029bc",
   "metadata": {},
   "outputs": [],
   "source": []
  }
 ],
 "metadata": {
  "kernelspec": {
   "display_name": "Python 3 (ipykernel)",
   "language": "python",
   "name": "python3"
  },
  "language_info": {
   "codemirror_mode": {
    "name": "ipython",
    "version": 3
   },
   "file_extension": ".py",
   "mimetype": "text/x-python",
   "name": "python",
   "nbconvert_exporter": "python",
   "pygments_lexer": "ipython3",
   "version": "3.11.5"
  }
 },
 "nbformat": 4,
 "nbformat_minor": 5
}
